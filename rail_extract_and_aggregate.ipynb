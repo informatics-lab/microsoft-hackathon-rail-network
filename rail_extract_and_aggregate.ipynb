{
 "cells": [
  {
   "cell_type": "markdown",
   "id": "8569acf0-b26b-431b-9efd-72412344ff09",
   "metadata": {},
   "source": [
    "# Railway Data Extraction with Aggregation\n",
    "\n",
    "Extract air temperature data and buckling probability along a linestring describing a railway line and aggregate to find the maximum values within a six hour window.\n",
    "\n",
    "## Setup\n",
    "\n",
    "Imports and data load."
   ]
  },
  {
   "cell_type": "code",
   "execution_count": 1,
   "id": "39b553b1-2090-4f4c-aeef-34537d9f77e4",
   "metadata": {},
   "outputs": [],
   "source": [
    "import csv\n",
    "\n",
    "import cartopy.crs as ccrs\n",
    "import iris\n",
    "import iris.coord_categorisation as iccat\n",
    "import iris.plot as iplt\n",
    "import matplotlib.pyplot as plt\n",
    "import numpy as np\n",
    "from shapely.geometry import LineString\n",
    "\n",
    "import shapecutter"
   ]
  },
  {
   "cell_type": "markdown",
   "id": "e098bea2-fdaf-4f45-9496-5b5448e6ce4f",
   "metadata": {},
   "source": [
    "### Data load\n",
    "\n",
    "Load datasets of air temperature and buckling probability, and data that describes a railway line."
   ]
  },
  {
   "cell_type": "code",
   "execution_count": 2,
   "id": "6453650a-e55a-49fc-aaab-c17fd58332cd",
   "metadata": {
    "tags": []
   },
   "outputs": [],
   "source": [
    "rail_lat_lons = [\n",
    "    [51.568877129691685, -0.10808509311982246],\n",
    "    [51.59323320738075, -0.11951698431857623],\n",
    "    [51.59526229129475, -0.12115011163268377],\n",
    "    [51.611491699575915, -0.1440138940301914],\n",
    "    [51.62467382277337, -0.15544578522894478],\n",
    "    [51.65913204441527, -0.1766764403123449],\n",
    "    [51.68343973090141, -0.1783095676264523],\n",
    "    [51.712794116793525, -0.20280647733806748],\n",
    "    [51.70672235780752, -0.1946408407675292],\n",
    "    [51.7451630679815, -0.22403713242146747],\n",
    "    [51.78862235202789, -0.2126052412227136],\n",
    "    [51.8148797635516, -0.20117335002395992],\n",
    "    [51.847175587261056, -0.17504331299823722],\n",
    "    [51.895575907406595, -0.1946408407675292],\n",
    "    [51.962041316188795, -0.27139782453058975],\n",
    "    [52.00835918062153, -0.26721381208487727],\n",
    "    [52.05457752210373, -0.26394755745666176],\n",
    "    [52.11479053696101, -0.27048006671309244],\n",
    "    [52.164906005387095, -0.2802788305977387],\n",
    "    [52.20095423266889, -0.28354508522595373],\n",
    "    [52.27196372822802, -0.22475249263307465],\n",
    "    [52.3238986285102, -0.19698932829324434],\n",
    "    [52.36181254751899, -0.18392430978038277],\n",
    "    [52.395707974369024, -0.21332060143432116],\n",
    "    [52.44569623911324, -0.2397950258037104],\n",
    "    [52.60403350937584, -0.2825218114798374],\n",
    "    [52.640582508609086, -0.3466119899940277],\n",
    "    [52.69476027803933, -0.4476025743194185],\n",
    "    [52.76297566892796, -0.5116927528336089],\n",
    "    [52.853372656633695, -0.6126833371589998],\n",
    "    [52.96230296715959, -0.6456994897269157],\n",
    "    [53.02075447813583, -0.7117317961246676],\n",
    "    [53.155048241128654, -0.8175617577729899],\n",
    "    [53.19578987584783, -0.8195038843946318],\n",
    "    [53.26670427751568, -0.9030153333842201],\n",
    "    [53.36300580691406, -0.9845846514931895],\n",
    "    [53.4174416813236, -1.019542930682748],\n",
    "    [53.49607679374071, -1.0875173624402223],\n",
    "    [53.6022003701201, -1.1182665601458466],\n",
    "    [53.72130901754783, -1.0920478507536777],\n",
    "    [53.7850402901577, -1.1648775990652578],\n",
    "    [53.86986497443909, -1.1765303587951104],\n",
    "    [53.96080291374333, -1.096903162181237],\n",
    "    [54.037288725472244, -1.1842988729320627],\n",
    "    [54.14834179514083, -1.2833473306358114],\n",
    "    [54.251155961177744, -1.3959906813949996],\n",
    "    [54.351688223521485, -1.4508493383411185],\n",
    "    [54.46528556013235, -1.5576663025314361],\n",
    "    [54.4709289534518, -1.555724175909794],\n",
    "    [54.53239147327995, -1.54310035286912],\n",
    "    [54.590385818639845, -1.5625216190855413],\n",
    "    [54.64380265373373, -1.5032867538917896],\n",
    "    [54.67918779018291, -1.5353318464614216],\n",
    "    [54.736412683225375, -1.596508836305068],\n",
    "    [54.7845984030466, -1.5809718222277518],\n",
    "    [54.86738842437011, -1.588740332500077],\n",
    "    [54.963948188152564, -1.6198143584463514],\n",
    "    [55.02522414306342, -1.5800007778457146],\n",
    "    [55.16247579518258, -1.6848756154143896],\n",
    "    [55.235631783805815, -1.6149590543536962],\n",
    "    [55.33517349630839, -1.6470041436107918],\n",
    "    [55.404152902974374, -1.6402066931790102],\n",
    "    [55.47356250690207, -1.6683675315589195],\n",
    "    [55.541201815442406, -1.725660267055102],\n",
    "    [55.59998337388424, -1.8001090693456672],\n",
    "    [55.67014377607834, -1.878765197522173],\n",
    "    [55.75712128396987, -1.9982059879868321],\n",
    "    [55.84554082862181, -2.080746405055833],\n",
    "    [55.858077947127555, -2.236116534787203],\n",
    "    [55.99952080939376, -2.5167538507798843],\n",
    "    [56.00657940492342, -2.7031980064575283],\n",
    "    [55.96420848784529, -2.9246004754754122],\n",
    "    [55.95224932060645, -3.1751348096672465],\n",
    "]"
   ]
  },
  {
   "cell_type": "code",
   "execution_count": 3,
   "id": "749b8d40-35c7-432c-aaa1-506c0f70f280",
   "metadata": {},
   "outputs": [
    {
     "data": {
      "image/svg+xml": [
       "<svg xmlns=\"http://www.w3.org/2000/svg\" xmlns:xlink=\"http://www.w3.org/1999/xlink\" width=\"100.0\" height=\"100.0\" viewBox=\"-3.352642900676516 51.39136903868241 3.422065898565963 4.792718457250281\" preserveAspectRatio=\"xMinYMin meet\"><g transform=\"matrix(1,0,0,-1,0,107.57545653461511)\"><polyline fill=\"none\" stroke=\"#66cc99\" stroke-width=\"0.09585436914500561\" points=\"-0.10808509311982246,51.568877129691685 -0.11951698431857623,51.59323320738075 -0.12115011163268377,51.59526229129475 -0.1440138940301914,51.611491699575915 -0.15544578522894478,51.62467382277337 -0.1766764403123449,51.65913204441527 -0.1783095676264523,51.68343973090141 -0.20280647733806748,51.712794116793525 -0.1946408407675292,51.70672235780752 -0.22403713242146747,51.7451630679815 -0.2126052412227136,51.78862235202789 -0.20117335002395992,51.8148797635516 -0.17504331299823722,51.847175587261056 -0.1946408407675292,51.895575907406595 -0.27139782453058975,51.962041316188795 -0.26721381208487727,52.00835918062153 -0.26394755745666176,52.05457752210373 -0.27048006671309244,52.11479053696101 -0.2802788305977387,52.164906005387095 -0.28354508522595373,52.20095423266889 -0.22475249263307465,52.27196372822802 -0.19698932829324434,52.3238986285102 -0.18392430978038277,52.36181254751899 -0.21332060143432116,52.395707974369024 -0.2397950258037104,52.44569623911324 -0.2825218114798374,52.60403350937584 -0.3466119899940277,52.640582508609086 -0.4476025743194185,52.69476027803933 -0.5116927528336089,52.76297566892796 -0.6126833371589998,52.853372656633695 -0.6456994897269157,52.96230296715959 -0.7117317961246676,53.02075447813583 -0.8175617577729899,53.155048241128654 -0.8195038843946318,53.19578987584783 -0.9030153333842201,53.26670427751568 -0.9845846514931895,53.36300580691406 -1.019542930682748,53.4174416813236 -1.0875173624402223,53.49607679374071 -1.1182665601458466,53.6022003701201 -1.0920478507536777,53.72130901754783 -1.1648775990652578,53.7850402901577 -1.1765303587951104,53.86986497443909 -1.096903162181237,53.96080291374333 -1.1842988729320627,54.037288725472244 -1.2833473306358114,54.14834179514083 -1.3959906813949996,54.251155961177744 -1.4508493383411185,54.351688223521485 -1.5576663025314361,54.46528556013235 -1.555724175909794,54.4709289534518 -1.54310035286912,54.53239147327995 -1.5625216190855413,54.590385818639845 -1.5032867538917896,54.64380265373373 -1.5353318464614216,54.67918779018291 -1.596508836305068,54.736412683225375 -1.5809718222277518,54.7845984030466 -1.588740332500077,54.86738842437011 -1.6198143584463514,54.963948188152564 -1.5800007778457146,55.02522414306342 -1.6848756154143896,55.16247579518258 -1.6149590543536962,55.235631783805815 -1.6470041436107918,55.33517349630839 -1.6402066931790102,55.404152902974374 -1.6683675315589195,55.47356250690207 -1.725660267055102,55.541201815442406 -1.8001090693456672,55.59998337388424 -1.878765197522173,55.67014377607834 -1.9982059879868321,55.75712128396987 -2.080746405055833,55.84554082862181 -2.236116534787203,55.858077947127555 -2.5167538507798843,55.99952080939376 -2.7031980064575283,56.00657940492342 -2.9246004754754122,55.96420848784529 -3.1751348096672465,55.95224932060645\" opacity=\"0.8\" /></g></svg>"
      ],
      "text/plain": [
       "<shapely.geometry.linestring.LineString at 0x7fc4783fbee0>"
      ]
     },
     "execution_count": 3,
     "metadata": {},
     "output_type": "execute_result"
    }
   ],
   "source": [
    "# Lon/lat values are transposed...\n",
    "rail_line = LineString([(x, y) for [y, x] in rail_lat_lons])\n",
    "rail_line"
   ]
  },
  {
   "cell_type": "code",
   "execution_count": 4,
   "id": "feafd75e-6c35-42a3-881d-8d537856b11d",
   "metadata": {},
   "outputs": [],
   "source": [
    "cube = iris.load_cube(\"agl_temperature.nc\")\n",
    "buckling_prob_cube = iris.load_cube(\"rail_temperature.nc\", \"rail_buckling_probability\")"
   ]
  },
  {
   "cell_type": "markdown",
   "id": "c23d58d0-511e-4b81-be40-12a9bd84b0f6",
   "metadata": {},
   "source": [
    "### Aggregate cubes on 6hr window"
   ]
  },
  {
   "cell_type": "code",
   "execution_count": 5,
   "id": "98a1ad9b-36f0-4b24-bea6-2fa18d446861",
   "metadata": {},
   "outputs": [],
   "source": [
    "iccat.add_categorised_coord(cube, \"6hr\", \"time\", lambda coord, value: value // 6)\n",
    "iccat.add_categorised_coord(buckling_prob_cube, \"6hr\", \"time\", lambda coord, value: value // 6)"
   ]
  },
  {
   "cell_type": "code",
   "execution_count": 6,
   "id": "73c1b13d-21f3-43f3-88d3-04ac149d6962",
   "metadata": {},
   "outputs": [],
   "source": [
    "max_agg_cube_6hr = cube.aggregated_by(\"6hr\", iris.analysis.MAX)\n",
    "max_agg_prob_cube = buckling_prob_cube.aggregated_by(\"6hr\", iris.analysis.MAX)"
   ]
  },
  {
   "cell_type": "markdown",
   "id": "338140c8-7e08-48e6-b519-b02a5d31e0d5",
   "metadata": {},
   "source": [
    "## Extract along railway\n",
    "\n",
    "### Air temperature data"
   ]
  },
  {
   "cell_type": "code",
   "execution_count": 7,
   "id": "999fb402-c702-4d20-9086-0ef3b05ad744",
   "metadata": {},
   "outputs": [],
   "source": [
    "cube_cutter = shapecutter.Cutter(max_agg_cube_6hr, rail_line)\n",
    "cut_cube = cube_cutter.cut_dataset(\"\", to=\"boundary\")"
   ]
  },
  {
   "cell_type": "markdown",
   "id": "540bc56f-4024-4398-850c-a5b5ebb47232",
   "metadata": {},
   "source": [
    "### Buckling probability"
   ]
  },
  {
   "cell_type": "code",
   "execution_count": 8,
   "id": "2b39b01d-ed1f-4726-a7eb-bd70e409965c",
   "metadata": {},
   "outputs": [],
   "source": [
    "prob_cutter = shapecutter.Cutter(max_agg_prob_cube, rail_line)\n",
    "cut_prob_cube = prob_cutter.cut_dataset(\"\", to=\"boundary\")"
   ]
  },
  {
   "cell_type": "markdown",
   "id": "1858b7b0-adb7-425a-a9fb-eea400161747",
   "metadata": {},
   "source": [
    "## Output extracted data\n",
    "\n",
    "As a CSV file."
   ]
  },
  {
   "cell_type": "code",
   "execution_count": 9,
   "id": "6532ecfc-ed19-46ff-bee1-b94c027d446b",
   "metadata": {},
   "outputs": [],
   "source": [
    "location_name = \"rail\"\n",
    "t_unit = cut_cube.coord(\"time\").units\n",
    "\n",
    "lat_inds, lon_inds = np.nonzero(cut_cube[0, 0].data.mask == False)\n",
    "lat_coords = [cut_cube.coord(\"latitude\").points[lai] for lai in lat_inds]\n",
    "lon_coords = [cut_cube.coord(\"longitude\").points[loi] for loi in lon_inds]"
   ]
  },
  {
   "cell_type": "code",
   "execution_count": 10,
   "id": "44a89cb2-8028-47fa-869b-959d8300dc2f",
   "metadata": {},
   "outputs": [],
   "source": [
    "# CSV Schema (member = realization)\n",
    "titles = [\"Location Name\", \"Lat\", \"Long\", \"Datetime\", \"Member\", \"Parameter\", \"Value\"]\n",
    "t_str = \"{dt.day}/{dt.month:02d}/{dt.year}\""
   ]
  },
  {
   "cell_type": "code",
   "execution_count": 11,
   "id": "40f423f9-81b9-4f07-befb-3af20c64bfca",
   "metadata": {},
   "outputs": [],
   "source": [
    "output = []\n",
    "for result in [cut_cube, cut_prob_cube]:\n",
    "    param_name = result.name()\n",
    "    for result_t in result.slices([\"latitude\", \"longitude\"]):\n",
    "        t_val = t_unit.num2date(result_t.coord(\"time\").points[0])\n",
    "        try:\n",
    "            ens_mbr = result_t.coord(\"realization\").points[0]\n",
    "        except iris.exceptions.CoordinateNotFoundError:\n",
    "            ens_mbr = \"Summary\"\n",
    "        values = zip(lat_coords, lon_coords, result_t.data[result_t.data.mask == False].data)\n",
    "        for lac, loc, val in values:\n",
    "            mod_val = val - 273.15 if param_name == \"air_temperature\" else val  # Convert air temp K --> C. \n",
    "            output.append([location_name, lac, loc, t_str.format(dt=t_val), ens_mbr, param_name, mod_val])"
   ]
  },
  {
   "cell_type": "code",
   "execution_count": 12,
   "id": "4021931b-6d8e-41e9-89f2-30ad5d7b85bf",
   "metadata": {},
   "outputs": [],
   "source": [
    "with open(\"ensemble_buckling_data_6hr_agg.csv\", \"w\") as csvfile:\n",
    "    csvw = csv.writer(csvfile)\n",
    "    csvw.writerow(titles)\n",
    "    csvw.writerows(output)"
   ]
  },
  {
   "cell_type": "code",
   "execution_count": null,
   "id": "7751af80-a15f-49d5-8514-d65e8fd5e2ba",
   "metadata": {},
   "outputs": [],
   "source": []
  }
 ],
 "metadata": {
  "kernelspec": {
   "display_name": "Python 3 (ipykernel)",
   "language": "python",
   "name": "python3"
  },
  "language_info": {
   "codemirror_mode": {
    "name": "ipython",
    "version": 3
   },
   "file_extension": ".py",
   "mimetype": "text/x-python",
   "name": "python",
   "nbconvert_exporter": "python",
   "pygments_lexer": "ipython3",
   "version": "3.8.13"
  }
 },
 "nbformat": 4,
 "nbformat_minor": 5
}
